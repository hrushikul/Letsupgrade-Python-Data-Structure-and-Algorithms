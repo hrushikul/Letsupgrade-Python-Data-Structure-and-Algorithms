{
 "cells": [
  {
   "cell_type": "markdown",
   "metadata": {},
   "source": [
    "# 1. What is the time, space complexity of following code:\n",
    "int a = 0, b = 0;\n",
    "\n",
    "\n",
    "\n",
    "\n",
    "\n",
    "for (i = 0; i < N; i++) \n",
    "\n",
    "\n",
    "\n",
    "\n",
    "\n",
    "{  \n",
    "    \n",
    "    a = a + 1;\n",
    "    \n",
    "}\n",
    "\n",
    "for (j = 0; j < M; j++) \n",
    "\n",
    "{\n",
    "    \n",
    "    b = b + j;\n",
    "    \n",
    "}"
   ]
  },
  {
   "cell_type": "markdown",
   "metadata": {},
   "source": [
    "### Time complexity: O(N)\n",
    "### Space complexity: O(4)"
   ]
  },
  {
   "cell_type": "markdown",
   "metadata": {},
   "source": [
    "# Question 2\n",
    "What does it mean when we say that an algorithm X is asymptotically more efficient than Y?\n",
    "1. X will be a better choice for all inputs\n",
    "2. X will be a better choice for all inputs except possibly small inputs\n",
    "3. X will be a better choice for all inputs except possibly large inputs\n",
    "4. Y will be a better choice for small inputs"
   ]
  },
  {
   "cell_type": "markdown",
   "metadata": {},
   "source": [
    "### 2. X will be a better choice for all inputs except possibly small inputs"
   ]
  }
 ],
 "metadata": {
  "kernelspec": {
   "display_name": "Python 3",
   "language": "python",
   "name": "python3"
  },
  "language_info": {
   "codemirror_mode": {
    "name": "ipython",
    "version": 3
   },
   "file_extension": ".py",
   "mimetype": "text/x-python",
   "name": "python",
   "nbconvert_exporter": "python",
   "pygments_lexer": "ipython3",
   "version": "3.8.3"
  }
 },
 "nbformat": 4,
 "nbformat_minor": 4
}
