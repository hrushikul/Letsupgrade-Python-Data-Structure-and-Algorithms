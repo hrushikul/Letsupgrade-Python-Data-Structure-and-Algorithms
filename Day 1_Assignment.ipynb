{
 "cells": [
  {
   "cell_type": "markdown",
   "metadata": {},
   "source": [
    "### Write a python program that takes two numbers as the input and print the result of Addition,Subtraction, Multiplication, Division of the two numbers"
   ]
  },
  {
   "cell_type": "code",
   "execution_count": 1,
   "metadata": {},
   "outputs": [
    {
     "name": "stdout",
     "output_type": "stream",
     "text": [
      "Enter first number: 25\n",
      "Enter second number: 5\n",
      "Addition: 30.0\n",
      "Subtraction:  20.0\n",
      "Multiplication:  125.0\n",
      "Division:  5.0\n"
     ]
    }
   ],
   "source": [
    "a = float(input(\"Enter first number: \"))\n",
    "b = float(input('Enter second number: '))\n",
    "print('Addition:',a+b)\n",
    "print('Subtraction: ',a-b)\n",
    "print('Multiplication: ',a*b)\n",
    "print('Division: ',a/b)"
   ]
  },
  {
   "cell_type": "markdown",
   "metadata": {},
   "source": [
    "### Write a python program that takes two numbers as the input such as X and Y and print the result of X^Y(X to the power of Y)."
   ]
  },
  {
   "cell_type": "code",
   "execution_count": 3,
   "metadata": {},
   "outputs": [
    {
     "name": "stdout",
     "output_type": "stream",
     "text": [
      "Enter first number: 50\n",
      "Enter second number: 2\n",
      "50.0^2.0 = 2500.0\n"
     ]
    }
   ],
   "source": [
    "x = float(input('Enter first number: '))\n",
    "y = float(input('Enter second number: '))\n",
    "print(\"{0}^{1} = {2}\".format(x,y,x**y))"
   ]
  }
 ],
 "metadata": {
  "kernelspec": {
   "display_name": "Python 3",
   "language": "python",
   "name": "python3"
  },
  "language_info": {
   "codemirror_mode": {
    "name": "ipython",
    "version": 3
   },
   "file_extension": ".py",
   "mimetype": "text/x-python",
   "name": "python",
   "nbconvert_exporter": "python",
   "pygments_lexer": "ipython3",
   "version": "3.8.3"
  }
 },
 "nbformat": 4,
 "nbformat_minor": 4
}
