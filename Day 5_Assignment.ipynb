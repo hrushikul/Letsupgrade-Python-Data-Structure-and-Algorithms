{
 "cells": [
  {
   "cell_type": "markdown",
   "metadata": {},
   "source": [
    "# Question 1\n",
    "Define a function swap that should swap two values and print the swapped variables outside the\n",
    "swap function."
   ]
  },
  {
   "cell_type": "code",
   "execution_count": null,
   "metadata": {},
   "outputs": [],
   "source": [
    "def swap(a,b):\n",
    "    a,b = b,a\n",
    "    print(a,b)\n",
    "    \n",
    "a = 10\n",
    "b = 20\n",
    "swap(a,b)"
   ]
  },
  {
   "cell_type": "markdown",
   "metadata": {},
   "source": [
    "# Question 2\n",
    "Perform insert at end operation in the linked list"
   ]
  },
  {
   "cell_type": "code",
   "execution_count": 4,
   "metadata": {},
   "outputs": [
    {
     "name": "stdout",
     "output_type": "stream",
     "text": [
      "10| >- |N\n",
      "20| >- |10| >- |N\n",
      "30| >- |20| >- |10| >- |N\n",
      "40| >- |30| >- |20| >- |10| >- |N\n",
      "50| >- |40| >- |30| >- |20| >- |10| >- |N\n",
      "50| >- |40| >- |30| >- |20| >- |10| >- |34| >- |N\n",
      "50| >- |40| >- |30| >- |20| >- |10| >- |34| >- |500| >- |N\n",
      "50| >- |40| >- |30| >- |20| >- |10| >- |34| >- |500| >- |200| >- |N\n"
     ]
    }
   ],
   "source": [
    "class Node:\n",
    "    def __init__(self,data):\n",
    "        self.data = data\n",
    "        self.next = None\n",
    "        \n",
    "class Linkedlist():\n",
    "    def __init__(self):\n",
    "        self.head = None\n",
    "        self.tail = None\n",
    "        \n",
    "    def insert_beg(self,x):\n",
    "        new = Node(x)\n",
    "        \n",
    "        if self.head == None:\n",
    "            self.head = self.tail = new\n",
    "            return\n",
    "        \n",
    "        new.next = self.head\n",
    "        self.head = new\n",
    "        \n",
    "    def insert_end(self,x):\n",
    "        new = Node(x) #defining new element to be added\n",
    "        \n",
    "        if self.head == None: #if the linked list is empty, assign the value new to head and tail\n",
    "            self.tail = self.head = new\n",
    "            return\n",
    "        \n",
    "        self.tail.next = new #new is stored in the tail\n",
    "        new.next = None #new transformed into tail node\n",
    "        self.tail = new #new named as the new tail node\n",
    "        \n",
    "        \n",
    "    def display(self):\n",
    "        temp = self.head\n",
    "        \n",
    "        while temp!= None:\n",
    "            print(temp.data,end='| >- |')\n",
    "            temp = temp.next\n",
    "            \n",
    "        print('N')\n",
    "        \n",
    "        \n",
    "li = Linkedlist()\n",
    "# li.insert_beg(10)\n",
    "# li.display()\n",
    "\n",
    "li.insert_beg(10)\n",
    "li.display()\n",
    "\n",
    "li.insert_beg(20)\n",
    "li.display()\n",
    "\n",
    "li.insert_beg(30)\n",
    "li.display()\n",
    "\n",
    "li.insert_beg(40)\n",
    "li.display()\n",
    "\n",
    "li.insert_beg(50)\n",
    "li.display()\n",
    "\n",
    "li.insert_end(34)\n",
    "li.display()\n",
    "\n",
    "li.insert_end(500)\n",
    "li.display()\n",
    "\n",
    "li.insert_end(200)\n",
    "li.display()"
   ]
  }
 ],
 "metadata": {
  "kernelspec": {
   "display_name": "Python 3",
   "language": "python",
   "name": "python3"
  },
  "language_info": {
   "codemirror_mode": {
    "name": "ipython",
    "version": 3
   },
   "file_extension": ".py",
   "mimetype": "text/x-python",
   "name": "python",
   "nbconvert_exporter": "python",
   "pygments_lexer": "ipython3",
   "version": "3.8.3"
  }
 },
 "nbformat": 4,
 "nbformat_minor": 4
}
