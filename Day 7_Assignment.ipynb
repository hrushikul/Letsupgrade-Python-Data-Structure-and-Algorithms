{
 "cells": [
  {
   "cell_type": "markdown",
   "metadata": {},
   "source": [
    "# Question 1\n",
    "Implement dequeue operation in the queue"
   ]
  },
  {
   "cell_type": "code",
   "execution_count": 5,
   "metadata": {},
   "outputs": [
    {
     "name": "stdout",
     "output_type": "stream",
     "text": [
      "Enter the max length of queue:5\n",
      "Initial queue: \n",
      "10 20 30 \n",
      "Final queue: \n",
      "20 30 "
     ]
    }
   ],
   "source": [
    "q = []\n",
    "f = r = -1 #queue is initially empty\n",
    "size = int(input('Enter the max length of queue:'))\n",
    "\n",
    "def enqueue(x):\n",
    "    global r,f,size\n",
    "    if r == size - 1:\n",
    "        print('max queue')\n",
    "        return\n",
    "    q.append(x)\n",
    "    if f == -1 or r == -1: #if queue is empty\n",
    "        f = r = 0\n",
    "    else:\n",
    "        r += 1\n",
    "        \n",
    "def dequeue():\n",
    "    global r,f,size\n",
    "    if f == -1 or r == -1:\n",
    "        print('queue empty')\n",
    "        return\n",
    "    q.remove(q[f])\n",
    "    r -= 1\n",
    "    \n",
    "def display():\n",
    "    global r,f,size\n",
    "    if f == -1 or r == -1:\n",
    "        print('queue empty')\n",
    "        return\n",
    "    for i in range(f,r+1):\n",
    "        print(q[i],end=' ')\n",
    "        \n",
    "#add 1st element 10\n",
    "enqueue(10)\n",
    "#add 2nd element 20\n",
    "enqueue(20)\n",
    "#add 3rd element 30\n",
    "enqueue(30)\n",
    "\n",
    "#display the created queue\n",
    "print('Initial queue: ')\n",
    "display()\n",
    "\n",
    "#remove according to FIFO principle\n",
    "dequeue()\n",
    "\n",
    "#display after removal\n",
    "print('\\nFinal queue: ')\n",
    "display()"
   ]
  },
  {
   "cell_type": "markdown",
   "metadata": {},
   "source": [
    "# Question 2\n",
    "Implement Pop operation in the stack"
   ]
  },
  {
   "cell_type": "code",
   "execution_count": 7,
   "metadata": {},
   "outputs": [
    {
     "name": "stdout",
     "output_type": "stream",
     "text": [
      "Enter the max size of stack: 5\n",
      "Initial stack:\n",
      "40\n",
      "30\n",
      "20\n",
      "10\n",
      "Final stack:\n",
      "30\n",
      "20\n",
      "10\n"
     ]
    }
   ],
   "source": [
    "stack = []\n",
    "top = -1  #top element\n",
    "size = int(input('Enter the max size of stack: '))\n",
    "\n",
    "def push(x):\n",
    "    global top,size\n",
    "    if top == size - 1:\n",
    "        print('Stack overflow')\n",
    "        return\n",
    "    stack.append(x)\n",
    "    top += 1\n",
    "    \n",
    "def pop():\n",
    "    global top,size\n",
    "    if top == -1:\n",
    "        print(\"Stack underflow\")\n",
    "        return\n",
    "    stack.pop() #LIFO principle\n",
    "    top -= 1\n",
    "    \n",
    "def display():\n",
    "    global top,size\n",
    "    if top == -1:\n",
    "        print('Empty stack')\n",
    "        return\n",
    "    for i in range(top,-1,-1):\n",
    "        print(stack[i])\n",
    "        \n",
    "#add 1st element\n",
    "push(10)\n",
    "# add 2nd element\n",
    "push(20)\n",
    "#add 3rd element\n",
    "push(30)\n",
    "#add 4th element\n",
    "push(40)\n",
    "\n",
    "#display intial stack\n",
    "print('Initial stack:')\n",
    "display()\n",
    "\n",
    "#remove element from stack based upon LIFO principle\n",
    "pop()\n",
    "print('Final stack:')\n",
    "display()"
   ]
  },
  {
   "cell_type": "markdown",
   "metadata": {},
   "source": [
    "# Question 3\n",
    "A Barua number is a number that consists of only zeroes and ones and has only one 1. Barua’s\n",
    "number will start with 1. Given numbers, find out the multiplication of the numbers. Note: The\n",
    "input may contain one decimal number and all other Barua numbers. (Assume that each number\n",
    "is very large and the total number of values give is also very large)\n",
    "Input 1: 100 10 12 1000\n",
    "Output 1: 12000000\n",
    "Input 2: 100 121 1000000000000000\n",
    "Output 2: 12100000000000000000\n",
    "Input 3: 10 100 1000\n",
    "Output 3: 1000000"
   ]
  },
  {
   "cell_type": "code",
   "execution_count": 9,
   "metadata": {},
   "outputs": [
    {
     "name": "stdout",
     "output_type": "stream",
     "text": [
      "Enter the numbers: 100 10 12 1000\n",
      "Enter the numbers: 100 121 1000000000000000\n",
      "Enter the numbers: 10 100 1000\n",
      "12000000 12100000000000000000 1000000\n"
     ]
    }
   ],
   "source": [
    "x1 = [int(i) for i in input('Enter the numbers: ').split()]\n",
    "prod1,prod2,prod3 = 1,1,1\n",
    "x2 = [int(i) for i in input('Enter the numbers: ').split()]\n",
    "x3 = [int(i) for i in input('Enter the numbers: ').split()]\n",
    "for i in x1:\n",
    "    prod1 *= i\n",
    "for i in x2:\n",
    "    prod2 *= i\n",
    "for i in x3:\n",
    "    prod3 *= i\n",
    "    \n",
    "print(prod1,prod2,prod3,end='\\n')"
   ]
  }
 ],
 "metadata": {
  "kernelspec": {
   "display_name": "Python 3",
   "language": "python",
   "name": "python3"
  },
  "language_info": {
   "codemirror_mode": {
    "name": "ipython",
    "version": 3
   },
   "file_extension": ".py",
   "mimetype": "text/x-python",
   "name": "python",
   "nbconvert_exporter": "python",
   "pygments_lexer": "ipython3",
   "version": "3.8.3"
  }
 },
 "nbformat": 4,
 "nbformat_minor": 4
}
